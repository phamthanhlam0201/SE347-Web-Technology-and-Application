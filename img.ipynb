{
 "cells": [
  {
   "cell_type": "code",
   "execution_count": 2,
   "metadata": {},
   "outputs": [
    {
     "name": "stdout",
     "output_type": "stream",
     "text": [
      "(1000, 1000, 3)\n",
      "(1000, 1000, 3)\n",
      "(1000, 1000, 3)\n",
      "(1000, 1000, 3)\n",
      "(1000, 1000, 3)\n",
      "(1000, 1000, 3)\n",
      "(1000, 1000, 3)\n",
      "(1000, 1000, 3)\n",
      "(1000, 1000, 3)\n",
      "(1000, 1000, 3)\n",
      "(1000, 1000, 3)\n",
      "(1000, 1000, 3)\n"
     ]
    }
   ],
   "source": [
    "import os\n",
    "import cv2\n",
    "\n",
    "img_folder = \"public/images/shirts\"\n",
    "\n",
    "# Xử lý dữ liệu từ các tệp JSON trong thư mục\n",
    "for filename in os.listdir(img_folder):\n",
    "    image_path = os.path.join(img_folder, filename)\n",
    "    img = cv2.imread(image_path)\n",
    "    img = cv2.resize(img, (1000,1000))\n",
    "    if img is not None:\n",
    "        print(img.shape)\n",
    "        cv2.imwrite(image_path, img)"
   ]
  }
 ],
 "metadata": {
  "kernelspec": {
   "display_name": "python",
   "language": "python",
   "name": "python3"
  },
  "language_info": {
   "codemirror_mode": {
    "name": "ipython",
    "version": 3
   },
   "file_extension": ".py",
   "mimetype": "text/x-python",
   "name": "python",
   "nbconvert_exporter": "python",
   "pygments_lexer": "ipython3",
   "version": "3.8.18"
  }
 },
 "nbformat": 4,
 "nbformat_minor": 2
}
