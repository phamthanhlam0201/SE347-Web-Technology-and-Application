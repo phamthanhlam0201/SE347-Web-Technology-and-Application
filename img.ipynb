{
 "cells": [
  {
   "cell_type": "code",
   "execution_count": 4,
   "metadata": {},
   "outputs": [
    {
     "name": "stdout",
     "output_type": "stream",
     "text": [
      "(1067, 800, 3)\n"
     ]
    }
   ],
   "source": [
    "import os\n",
    "import cv2\n",
    "\n",
    "# img_folder = \"public/images/shirts\"\n",
    "\n",
    "# # Xử lý dữ liệu từ các tệp JSON trong thư mục\n",
    "# for filename in os.listdir(img_folder):\n",
    "#     image_path = os.path.join(img_folder, filename)\n",
    "#     img = cv2.imread(image_path)\n",
    "#     img = cv2.resize(img, (1000,1000))\n",
    "#     if img is not None:\n",
    "#         print(img.shape)\n",
    "#         cv2.imwrite(image_path, img)\n",
    "\n",
    "img = cv2.imread('public/images/pants/Pant PS068.jpg')\n",
    "img = cv2.resize(img, (800,1067))\n",
    "if img is not None:\n",
    "    print(img.shape)\n",
    "    cv2.imwrite('public/images/pants/Pant PS068.jpg', img)\n",
    "# from sklearn.preprocessing import MinMaxScaler\n",
    "# from sklearn.linear_model import LogisticRegression\n",
    "# from sklearn.datasets import load_iris\n",
    "# from sklearn.model_selection import train_test_split\n",
    "# from sklearn.metrics import accuracy_score\n",
    "# from sklearn.model_selection import GridSearchCV\n",
    "\n",
    "# # Load dữ liệu\n",
    "# X, y = load_iris(return_X_y=True)\n",
    "# normalizer = MinMaxScaler()\n",
    "\n",
    "# # Tiền xử lý dữ liệu\n",
    "# X_normalized = normalizer.fit_transform(X)\n",
    "# X_train, X_test, y_train, y_test = train_test_split(X_normalized, y, test_size=0.2, random_state=42)\n",
    "\n",
    "# # Mô hình Logistic Regression\n",
    "# LR = LogisticRegression(solver='liblinear')\n",
    "\n",
    "# # Thiết lập các giá trị của siêu tham số C và fit_intercept\n",
    "# param_grid = {'C': [0.001, 0.01, 0.1, 1, 10, 100], 'fit_intercept': [True, False]}\n",
    "\n",
    "# # Sử dụng GridSearchCV để tìm giá trị tốt nhất cho siêu tham số\n",
    "# grid_search = GridSearchCV(LR, param_grid, cv=5)\n",
    "# grid_search.fit(X_train, y_train)\n",
    "\n",
    "# # Lấy ra giá trị tốt nhất của siêu tham số\n",
    "# best_C = grid_search.best_params_['C']\n",
    "# best_fit_intercept = grid_search.best_params_['fit_intercept']\n",
    "\n",
    "# # Tạo mô hình Logistic Regression với siêu tham số tốt nhất\n",
    "# best_LR = LogisticRegression(C=best_C, fit_intercept=best_fit_intercept, solver='liblinear')\n",
    "\n",
    "# # Huấn luyện mô hình trên dữ liệu huấn luyện\n",
    "# best_LR.fit(X_train, y_train)\n",
    "\n",
    "# # Dự đoán kết quả trên tập kiểm thử\n",
    "# y_pred = best_LR.predict(X_test)\n",
    "\n",
    "# # Đánh giá hiệu suất bằng độ đo accuracy\n",
    "# accuracy = accuracy_score(y_test, y_pred)\n",
    "\n",
    "# # In ra giá trị tốt nhất của siêu tham số và độ đo accuracy\n",
    "# print(f\"Best C: {best_C}\")\n",
    "# print(f\"Best fit_intercept: {best_fit_intercept}\")\n",
    "# print(f\"Accuracy on test set: {accuracy}\")\n"
   ]
  }
 ],
 "metadata": {
  "kernelspec": {
   "display_name": "python",
   "language": "python",
   "name": "python3"
  },
  "language_info": {
   "codemirror_mode": {
    "name": "ipython",
    "version": 3
   },
   "file_extension": ".py",
   "mimetype": "text/x-python",
   "name": "python",
   "nbconvert_exporter": "python",
   "pygments_lexer": "ipython3",
   "version": "3.8.18"
  }
 },
 "nbformat": 4,
 "nbformat_minor": 2
}
